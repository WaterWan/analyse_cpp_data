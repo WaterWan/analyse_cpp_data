{
 "cells": [
  {
   "cell_type": "code",
   "execution_count": 1,
   "metadata": {
    "collapsed": false
   },
   "outputs": [],
   "source": [
    "import pandas as pd\n",
    "import numpy as np\n",
    "\n",
    "from util.constant import *\n",
    "%load_ext autoreload\n",
    "%autoreload 2"
   ]
  },
  {
   "cell_type": "code",
   "execution_count": 2,
   "metadata": {
    "collapsed": true
   },
   "outputs": [],
   "source": [
    "from util.scan_database import ExtractController, scan_dir"
   ]
  },
  {
   "cell_type": "code",
   "execution_count": 3,
   "metadata": {
    "collapsed": true
   },
   "outputs": [],
   "source": [
    "data_path = 'data'"
   ]
  },
  {
   "cell_type": "code",
   "execution_count": 4,
   "metadata": {
    "collapsed": false
   },
   "outputs": [],
   "source": [
    "import sqlite3\n",
    "from util.db_action import get_all_table_names, get_all_information_from_table_as_pd_dataframe\n",
    "from collections import defaultdict\n",
    "tot_data = defaultdict(dict)\n",
    "inc = 0\n",
    "\n",
    "for d in scan_dir(data_path):\n",
    "    if d.endswith('.rar') or d.endswith('.zip'):\n",
    "        with ExtractController(d) as extracted_dir:\n",
    "            for t in scan_dir(extracted_dir):\n",
    "                if t.endswith('.db'):\n",
    "                    con = sqlite3.connect(t)\n",
    "                    table_names = get_all_table_names(con)\n",
    "                    for n in table_names:\n",
    "                        df = get_all_information_from_table_as_pd_dataframe(con, n)\n",
    "                        tot_data[inc][n] = df\n",
    "        inc += 1"
   ]
  },
  {
   "cell_type": "code",
   "execution_count": 5,
   "metadata": {
    "collapsed": false
   },
   "outputs": [],
   "source": [
    "def get_one_table(n):\n",
    "    return {i:d[n] for i, d in tot_data.items()}"
   ]
  },
  {
   "cell_type": "markdown",
   "metadata": {},
   "source": [
    "# content"
   ]
  },
  {
   "cell_type": "code",
   "execution_count": 6,
   "metadata": {
    "collapsed": true
   },
   "outputs": [],
   "source": [
    "def count_cols_in_one_table(table_name, cols):\n",
    "    contents = get_one_table(table_name)\n",
    "    def count_times(n, c):\n",
    "        n = n[c]\n",
    "        m = set(n)\n",
    "        return {a: (n==a).sum() for a in m}\n",
    "    return [{i: count_times(t, c) for i, t in contents.items()} for c in cols]"
   ]
  },
  {
   "cell_type": "code",
   "execution_count": 7,
   "metadata": {
    "collapsed": false
   },
   "outputs": [
    {
     "data": {
      "text/plain": [
       "[{0: {'Delete': 98, 'Insert': 350, 'Replace': 69, 'Save': 62},\n",
       "  1: {'Delete': 32, 'Insert': 205, 'Replace': 36, 'Save': 7},\n",
       "  2: {'Delete': 178, 'Insert': 485, 'Replace': 158, 'Save': 27},\n",
       "  3: {'Delete': 140, 'Insert': 428, 'Replace': 151, 'Save': 15}}]"
      ]
     },
     "execution_count": 7,
     "metadata": {},
     "output_type": "execute_result"
    }
   ],
   "source": [
    "#content的各项操作的个数\n",
    "count_cols_in_one_table(CONTENT_INFO, ['operation'])"
   ]
  },
  {
   "cell_type": "code",
   "execution_count": 25,
   "metadata": {
    "collapsed": false
   },
   "outputs": [
    {
     "name": "stdout",
     "output_type": "stream",
     "text": [
      "id: 0\n",
      "total time:5900000.0\n",
      "count    5.780000e+02\n",
      "mean     1.020761e+04\n",
      "std      6.808618e+04\n",
      "min      0.000000e+00\n",
      "25%      0.000000e+00\n",
      "50%      1.000000e+03\n",
      "75%      4.000000e+03\n",
      "max      1.447000e+06\n",
      "dtype: float64\n",
      "id: 1\n",
      "total time:1911000.0\n",
      "count       279.000000\n",
      "mean       6849.462366\n",
      "std       32588.654811\n",
      "min           0.000000\n",
      "25%           0.000000\n",
      "50%        1000.000000\n",
      "75%        4000.000000\n",
      "max      383000.000000\n",
      "dtype: float64\n",
      "id: 2\n",
      "total time:7200000.0\n",
      "count    8.470000e+02\n",
      "mean     8.500590e+03\n",
      "std      5.349172e+04\n",
      "min      0.000000e+00\n",
      "25%      0.000000e+00\n",
      "50%      1.000000e+03\n",
      "75%      4.000000e+03\n",
      "max      1.020000e+06\n",
      "dtype: float64\n",
      "id: 3\n",
      "total time:5239000.0\n",
      "count       733.00000\n",
      "mean       7147.33970\n",
      "std       34757.12152\n",
      "min           0.00000\n",
      "25%           0.00000\n",
      "50%        1000.00000\n",
      "75%        3000.00000\n",
      "max      625000.00000\n",
      "dtype: float64\n"
     ]
    }
   ],
   "source": [
    "# content的相邻两次操作之间的时间间隔\n",
    "def get_delta_time(n, col_name='time'):\n",
    "    from util.utility import string_to_datetime, timedelta_milliseconds\n",
    "    is_new = True\n",
    "    pre=None\n",
    "    dts=[]\n",
    "    for t in n.iterrows():\n",
    "        t=t[1]\n",
    "        if is_new:\n",
    "            pre=string_to_datetime(t[col_name])\n",
    "            is_new=False\n",
    "        else:\n",
    "            dts.append(timedelta_milliseconds(string_to_datetime(t[col_name])-pre))\n",
    "            pre = string_to_datetime(t[col_name])\n",
    "    return pd.Series(dts)\n",
    "\n",
    "contents = get_one_table(CONTENT_INFO)\n",
    "for i, ii in contents.items():\n",
    "    m = get_delta_time(ii)\n",
    "    print(\"id: {}\".format(i))\n",
    "    print(\"total time:{}\".format(m.sum()))\n",
    "    print(m.describe())"
   ]
  },
  {
   "cell_type": "markdown",
   "metadata": {},
   "source": [
    "# COMMAND TEXT"
   ]
  },
  {
   "cell_type": "code",
   "execution_count": 8,
   "metadata": {
    "collapsed": false
   },
   "outputs": [
    {
     "data": {
      "text/plain": [
       "[{0: {'Copy': 11, 'Paste': 7, 'Save': 62},\n",
       "  1: {'Copy': 5, 'Cut': 345, 'Paste': 8, 'Save': 7},\n",
       "  2: {'Copy': 2, 'Cut': 6, 'Paste': 14, 'Save': 23},\n",
       "  3: {'Copy': 1, 'Cut': 2, 'Paste': 3, 'Save': 15}}]"
      ]
     },
     "execution_count": 8,
     "metadata": {},
     "output_type": "execute_result"
    }
   ],
   "source": [
    "#text commmand 各个操作的个数\n",
    "count_cols_in_one_table(COMMAND_TEXT, ['action'])"
   ]
  },
  {
   "cell_type": "markdown",
   "metadata": {},
   "source": [
    "# BREAK_POINT"
   ]
  },
  {
   "cell_type": "code",
   "execution_count": 9,
   "metadata": {
    "collapsed": false
   },
   "outputs": [
    {
     "data": {
      "text/plain": [
       "{0: 0, 1: 0, 2: 0, 3: 52}"
      ]
     },
     "execution_count": 9,
     "metadata": {},
     "output_type": "execute_result"
    }
   ],
   "source": [
    "#断点的个数\n",
    "{i: len(j)  for i, j in count_cols_in_one_table(BREAK_POINT, ['id'])[0].items()}"
   ]
  },
  {
   "cell_type": "markdown",
   "metadata": {},
   "source": [
    "# DEBUG_INFO"
   ]
  },
  {
   "cell_type": "code",
   "execution_count": 10,
   "metadata": {
    "collapsed": false
   },
   "outputs": [
    {
     "data": {
      "text/plain": [
       "[{0: {'break': 16, 'run': 16},\n",
       "  1: {},\n",
       "  2: {'break': 18, 'exception_not_handled': 2, 'run': 17},\n",
       "  3: {'break': 86, 'exception_not_handled': 2, 'run': 72}}]"
      ]
     },
     "execution_count": 10,
     "metadata": {},
     "output_type": "execute_result"
    }
   ],
   "source": [
    "#debug时停顿原因的统计\n",
    "count_cols_in_one_table(DEBUG_INFO,['type'])"
   ]
  },
  {
   "cell_type": "code",
   "execution_count": 13,
   "metadata": {
    "collapsed": false,
    "scrolled": true
   },
   "outputs": [],
   "source": [
    "def cal_time_delta(n):\n",
    "    from util.utility import string_to_datetime, timedelta_milliseconds\n",
    "    import datetime\n",
    "    zero_time = timedelta_milliseconds(datetime.timedelta(microseconds=0))\n",
    "    ts_list = []\n",
    "    n_list = []\n",
    "    c = 0\n",
    "    is_new = True\n",
    "    pre_time = None\n",
    "    for t in n.iterrows():\n",
    "        t=t[1]\n",
    "        if t['type'] == 'run':\n",
    "            if not is_new:\n",
    "                c += 1\n",
    "            else:\n",
    "                is_new = False\n",
    "            ts_list.append(zero_time)\n",
    "            n_list.append(c)\n",
    "            pre_time = string_to_datetime(t['timestamp'])\n",
    "        else:\n",
    "            ts_list.append(timedelta_milliseconds(string_to_datetime(t['timestamp'])-pre_time))\n",
    "            pre_time = string_to_datetime(t['timestamp'])\n",
    "            n_list.append(c)\n",
    "    return pd.DataFrame({'seq_id': n_list, 'delta_time': ts_list})"
   ]
  },
  {
   "cell_type": "code",
   "execution_count": 20,
   "metadata": {
    "collapsed": false,
    "scrolled": false
   },
   "outputs": [
    {
     "name": "stdout",
     "output_type": "stream",
     "text": [
      "id: 0\n",
      "mean miliseconds: count        16.000000\n",
      "mean      32500.000000\n",
      "std       30988.169786\n",
      "min        1000.000000\n",
      "25%       10000.000000\n",
      "50%       18000.000000\n",
      "75%       44750.000000\n",
      "max      116000.000000\n",
      "Name: delta_time, dtype: float64\n",
      "run count: count    16.0\n",
      "mean      2.0\n",
      "std       0.0\n",
      "min       2.0\n",
      "25%       2.0\n",
      "50%       2.0\n",
      "75%       2.0\n",
      "max       2.0\n",
      "Name: delta_time, dtype: float64\n",
      "\n",
      "id: 1\n",
      "mean miliseconds: count    0.0\n",
      "mean     NaN\n",
      "std      NaN\n",
      "min      NaN\n",
      "25%      NaN\n",
      "50%      NaN\n",
      "75%      NaN\n",
      "max      NaN\n",
      "Name: delta_time, dtype: float64\n",
      "run count: count    0.0\n",
      "mean     NaN\n",
      "std      NaN\n",
      "min      NaN\n",
      "25%      NaN\n",
      "50%      NaN\n",
      "75%      NaN\n",
      "max      NaN\n",
      "Name: delta_time, dtype: float64\n",
      "\n",
      "id: 2\n",
      "mean miliseconds: count       17.000000\n",
      "mean      3529.411765\n",
      "std       2267.091944\n",
      "min       1000.000000\n",
      "25%       2000.000000\n",
      "50%       3000.000000\n",
      "75%       5000.000000\n",
      "max      10000.000000\n",
      "Name: delta_time, dtype: float64\n",
      "run count: count    17.000000\n",
      "mean      2.176471\n",
      "std       0.528594\n",
      "min       2.000000\n",
      "25%       2.000000\n",
      "50%       2.000000\n",
      "75%       2.000000\n",
      "max       4.000000\n",
      "Name: delta_time, dtype: float64\n",
      "\n",
      "id: 3\n",
      "mean miliseconds: count       72.000000\n",
      "mean      5611.111111\n",
      "std      14178.495476\n",
      "min          0.000000\n",
      "25%          0.000000\n",
      "50%          0.000000\n",
      "75%       2500.000000\n",
      "max      78000.000000\n",
      "Name: delta_time, dtype: float64\n",
      "run count: count    72.000000\n",
      "mean      2.222222\n",
      "std       0.586761\n",
      "min       2.000000\n",
      "25%       2.000000\n",
      "50%       2.000000\n",
      "75%       2.000000\n",
      "max       5.000000\n",
      "Name: delta_time, dtype: float64\n",
      "\n"
     ]
    }
   ],
   "source": [
    "# 单次debug的时间\n",
    "# 单次debug的长度\n",
    "debug_info = get_one_table(DEBUG_INFO)\n",
    "for i, ii in debug_info.items():\n",
    "    m = cal_time_delta(ii)\n",
    "    print(\"id: {}\".format(i))\n",
    "    print(\"mean miliseconds: {}\".format(m.groupby('seq_id')['delta_time'].sum().describe()))\n",
    "    print(\"run count: {}\".format(m.groupby('seq_id')['delta_time'].count().describe()))\n",
    "    print(\"\")"
   ]
  },
  {
   "cell_type": "markdown",
   "metadata": {},
   "source": []
  }
 ],
 "metadata": {
  "kernelspec": {
   "display_name": "Python [py35k]",
   "language": "python",
   "name": "Python [py35k]"
  },
  "language_info": {
   "codemirror_mode": {
    "name": "ipython",
    "version": 3
   },
   "file_extension": ".py",
   "mimetype": "text/x-python",
   "name": "python",
   "nbconvert_exporter": "python",
   "pygments_lexer": "ipython3",
   "version": "3.5.2"
  }
 },
 "nbformat": 4,
 "nbformat_minor": 2
}
