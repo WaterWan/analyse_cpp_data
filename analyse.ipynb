{
 "cells": [
  {
   "cell_type": "code",
   "execution_count": 1,
   "metadata": {
    "collapsed": true
   },
   "outputs": [],
   "source": [
    "import pandas as pd\n",
    "import numpy as np\n",
    "\n",
    "from util.constant import *\n",
    "%load_ext autoreload\n",
    "%autoreload 2"
   ]
  },
  {
   "cell_type": "code",
   "execution_count": 2,
   "metadata": {
    "collapsed": true
   },
   "outputs": [],
   "source": [
    "from util.scan_database import ExtractController, scan_dir"
   ]
  },
  {
   "cell_type": "code",
   "execution_count": 3,
   "metadata": {
    "collapsed": true
   },
   "outputs": [],
   "source": [
    "data_path = 'data'"
   ]
  },
  {
   "cell_type": "code",
   "execution_count": 4,
   "metadata": {
    "collapsed": true
   },
   "outputs": [],
   "source": [
    "import sqlite3\n",
    "from util.db_action import get_all_table_names, get_all_information_from_table_as_pd_dataframe\n",
    "from collections import defaultdict\n",
    "tot_data = defaultdict(dict)\n",
    "inc = 0\n",
    "\n",
    "for d in scan_dir(data_path):\n",
    "    if d.endswith('.rar') or d.endswith('.zip'):\n",
    "        with ExtractController(d) as extracted_dir:\n",
    "            for t in scan_dir(extracted_dir):\n",
    "                if t.endswith('.db'):\n",
    "                    con = sqlite3.connect(t)\n",
    "                    table_names = get_all_table_names(con)\n",
    "                    for n in table_names:\n",
    "                        df = get_all_information_from_table_as_pd_dataframe(con, n)\n",
    "                        tot_data[inc][n] = df\n",
    "        inc += 1"
   ]
  },
  {
   "cell_type": "code",
   "execution_count": 5,
   "metadata": {
    "collapsed": true
   },
   "outputs": [],
   "source": [
    "def get_one_table(n):\n",
    "    return {i:d[n] for i, d in tot_data.items()}"
   ]
  },
  {
   "cell_type": "markdown",
   "metadata": {},
   "source": [
    "# content"
   ]
  },
  {
   "cell_type": "code",
   "execution_count": 6,
   "metadata": {
    "collapsed": true
   },
   "outputs": [],
   "source": [
    "def count_cols_in_one_table(table_name, cols):\n",
    "    contents = get_one_table(table_name)\n",
    "    def count_times(n, c):\n",
    "        n = n[c]\n",
    "        m = set(n)\n",
    "        return {a: (n==a).sum() for a in m}\n",
    "    return [{i: count_times(t, c) for i, t in contents.items()} for c in cols]"
   ]
  },
  {
   "cell_type": "code",
   "execution_count": 7,
   "metadata": {},
   "outputs": [
    {
     "data": {
      "text/plain": [
       "[{}]"
      ]
     },
     "execution_count": 7,
     "metadata": {},
     "output_type": "execute_result"
    }
   ],
   "source": [
    "#content的各项操作的个数\n",
    "count_cols_in_one_table(CONTENT_INFO, ['operation'])"
   ]
  },
  {
   "cell_type": "code",
   "execution_count": 8,
   "metadata": {
    "collapsed": true
   },
   "outputs": [],
   "source": [
    "# content的相邻两次操作之间的时间间隔\n",
    "def get_delta_time(n, col_name='time'):\n",
    "    from util.utility import string_to_datetime, timedelta_milliseconds\n",
    "    is_new = True\n",
    "    pre=None\n",
    "    dts=[]\n",
    "    for t in n.iterrows():\n",
    "        t=t[1]\n",
    "        if is_new:\n",
    "            pre=string_to_datetime(t[col_name])\n",
    "            is_new=False\n",
    "        else:\n",
    "            dts.append(timedelta_milliseconds(string_to_datetime(t[col_name])-pre))\n",
    "            pre = string_to_datetime(t[col_name])\n",
    "    return pd.Series(dts)\n",
    "\n",
    "contents = get_one_table(CONTENT_INFO)\n",
    "for i, ii in contents.items():\n",
    "    m = get_delta_time(ii)\n",
    "    print(\"id: {}\".format(i))\n",
    "    print(\"total time:{}\".format(m.sum()))\n",
    "    print(m.describe())"
   ]
  },
  {
   "cell_type": "markdown",
   "metadata": {},
   "source": [
    "# COMMAND TEXT"
   ]
  },
  {
   "cell_type": "code",
   "execution_count": 9,
   "metadata": {},
   "outputs": [
    {
     "data": {
      "text/plain": [
       "[{}]"
      ]
     },
     "execution_count": 9,
     "metadata": {},
     "output_type": "execute_result"
    }
   ],
   "source": [
    "#text commmand 各个操作的个数\n",
    "count_cols_in_one_table(COMMAND_TEXT, ['action'])"
   ]
  },
  {
   "cell_type": "markdown",
   "metadata": {},
   "source": [
    "# BREAK_POINT"
   ]
  },
  {
   "cell_type": "code",
   "execution_count": 10,
   "metadata": {},
   "outputs": [
    {
     "data": {
      "text/plain": [
       "{}"
      ]
     },
     "execution_count": 10,
     "metadata": {},
     "output_type": "execute_result"
    }
   ],
   "source": [
    "#断点的个数\n",
    "{i: len(j)  for i, j in count_cols_in_one_table(BREAK_POINT, ['id'])[0].items()}"
   ]
  },
  {
   "cell_type": "markdown",
   "metadata": {},
   "source": [
    "# DEBUG_INFO"
   ]
  },
  {
   "cell_type": "code",
   "execution_count": 11,
   "metadata": {},
   "outputs": [
    {
     "data": {
      "text/plain": [
       "[{}]"
      ]
     },
     "execution_count": 11,
     "metadata": {},
     "output_type": "execute_result"
    }
   ],
   "source": [
    "#debug时停顿原因的统计\n",
    "count_cols_in_one_table(DEBUG_INFO,['type'])"
   ]
  },
  {
   "cell_type": "code",
   "execution_count": 12,
   "metadata": {
    "collapsed": true,
    "scrolled": true
   },
   "outputs": [],
   "source": [
    "def cal_time_delta(n):\n",
    "    from util.utility import string_to_datetime, timedelta_milliseconds\n",
    "    import datetime\n",
    "    zero_time = timedelta_milliseconds(datetime.timedelta(microseconds=0))\n",
    "    ts_list = []\n",
    "    n_list = []\n",
    "    c = 0\n",
    "    is_new = True\n",
    "    pre_time = None\n",
    "    for t in n.iterrows():\n",
    "        t=t[1]\n",
    "        if t['type'] == 'run':\n",
    "            if not is_new:\n",
    "                c += 1\n",
    "            else:\n",
    "                is_new = False\n",
    "            ts_list.append(zero_time)\n",
    "            n_list.append(c)\n",
    "            pre_time = string_to_datetime(t['timestamp'])\n",
    "        else:\n",
    "            ts_list.append(timedelta_milliseconds(string_to_datetime(t['timestamp'])-pre_time))\n",
    "            pre_time = string_to_datetime(t['timestamp'])\n",
    "            n_list.append(c)\n",
    "    return pd.DataFrame({'seq_id': n_list, 'delta_time': ts_list})"
   ]
  },
  {
   "cell_type": "code",
   "execution_count": 13,
   "metadata": {
    "collapsed": true,
    "scrolled": false
   },
   "outputs": [],
   "source": [
    "# 单次debug的时间\n",
    "# 单次debug的长度\n",
    "debug_info = get_one_table(DEBUG_INFO)\n",
    "for i, ii in debug_info.items():\n",
    "    m = cal_time_delta(ii)\n",
    "    print(\"id: {}\".format(i))\n",
    "    print(\"mean miliseconds: {}\".format(m.groupby('seq_id')['delta_time'].sum().describe()))\n",
    "    print(\"run count: {}\".format(m.groupby('seq_id')['delta_time'].count().describe()))\n",
    "    print(\"\")"
   ]
  },
  {
   "cell_type": "markdown",
   "metadata": {},
   "source": []
  }
 ],
 "metadata": {
  "kernelspec": {
   "display_name": "Python 3",
   "language": "python",
   "name": "python3"
  },
  "language_info": {
   "codemirror_mode": {
    "name": "ipython",
    "version": 3
   },
   "file_extension": ".py",
   "mimetype": "text/x-python",
   "name": "python",
   "nbconvert_exporter": "python",
   "pygments_lexer": "ipython3",
   "version": "3.6.1"
  }
 },
 "nbformat": 4,
 "nbformat_minor": 2
}
